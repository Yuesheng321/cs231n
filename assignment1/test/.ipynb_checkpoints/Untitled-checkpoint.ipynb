{
 "cells": [
  {
   "cell_type": "code",
   "execution_count": 1,
   "metadata": {},
   "outputs": [
    {
     "data": {
      "text/plain": [
       "<Figure size 640x480 with 1 Axes>"
      ]
     },
     "metadata": {},
     "output_type": "display_data"
    },
    {
     "name": "stdout",
     "output_type": "stream",
     "text": [
      "(32, 32, 3)\n"
     ]
    }
   ],
   "source": [
    "from six.moves import cPickle as pickle\n",
    "import os\n",
    "import matplotlib.pyplot as plt\n",
    "filename = '../cs231n/datasets/cifar-10-batches-py/data_batch_1'\n",
    "\"\"\"b = 1\n",
    "   f = os.path.join(filename, 'data_batch_%d' % (b, ))\n",
    "   print(f)\"\"\"\n",
    "with open(filename, 'rb') as f:\n",
    "    datadict = pickle.load(f, encoding='latin1')\n",
    "    #print(datadict)\n",
    "    X = datadict['data'].reshape(10000, 3, 32, 32).transpose(0, 2, 3, 1)\n",
    "    Y = datadict['labels']\n",
    "    plt.imshow(X[100])\n",
    "    plt.axis('off')\n",
    "    plt.show()\n",
    "print(X[0].shape)"
   ]
  },
  {
   "cell_type": "code",
   "execution_count": 2,
   "metadata": {},
   "outputs": [
    {
     "name": "stdout",
     "output_type": "stream",
     "text": [
      "('3', '6', '5')\n"
     ]
    }
   ],
   "source": [
    "import platform\n",
    "version = platform.python_version_tuple()\n",
    "print(version)"
   ]
  },
  {
   "cell_type": "code",
   "execution_count": 2,
   "metadata": {},
   "outputs": [
    {
     "name": "stdout",
     "output_type": "stream",
     "text": [
      "9.0\n",
      "[[ 0.15681455  1.23340074]\n",
      " [-0.84163018  0.44162604]\n",
      " [-0.19516294 -0.4957233 ]]\n"
     ]
    },
    {
     "data": {
      "text/plain": [
       "array([ 1.39021529, -0.40000414, -0.69088624])"
      ]
     },
     "execution_count": 2,
     "metadata": {},
     "output_type": "execute_result"
    }
   ],
   "source": [
    "import numpy as np\n",
    "print(np.mean(np.power(3, 2)))\n",
    "a = np.random.randn(3,2)\n",
    "print(a)\n",
    "np.sum(a, axis=1)"
   ]
  },
  {
   "cell_type": "code",
   "execution_count": 8,
   "metadata": {},
   "outputs": [
    {
     "name": "stdout",
     "output_type": "stream",
     "text": [
      "1\n",
      "6\n",
      "[[0 5 1 4 2 3]\n",
      " [0 5 1 4 2 3]]\n",
      "[3 3]\n"
     ]
    }
   ],
   "source": [
    "a = [[1,3,5,6,3,2],[1,3,5,6,3,2]]\n",
    "b = ['a','b','c','d','e','f']\n",
    "print(np.min(a))\n",
    "print(np.max(a))\n",
    "print(np.argsort(a)[0:2])\n",
    "c = np.argsort(a, axis=1)[:,-1]\n",
    "print(c)"
   ]
  },
  {
   "cell_type": "code",
   "execution_count": 5,
   "metadata": {},
   "outputs": [
    {
     "ename": "AttributeError",
     "evalue": "'Counter' object has no attribute 'key'",
     "output_type": "error",
     "traceback": [
      "\u001b[1;31m---------------------------------------------------------------------------\u001b[0m",
      "\u001b[1;31mAttributeError\u001b[0m                            Traceback (most recent call last)",
      "\u001b[1;32m<ipython-input-5-2cf61cbbf636>\u001b[0m in \u001b[0;36m<module>\u001b[1;34m()\u001b[0m\n\u001b[0;32m      2\u001b[0m \u001b[0mb\u001b[0m \u001b[1;33m=\u001b[0m \u001b[1;33m[\u001b[0m\u001b[1;34m'f'\u001b[0m\u001b[1;33m,\u001b[0m\u001b[1;34m'b'\u001b[0m\u001b[1;33m,\u001b[0m\u001b[1;34m'b'\u001b[0m\u001b[1;33m,\u001b[0m\u001b[1;34m'd'\u001b[0m\u001b[1;33m,\u001b[0m\u001b[1;34m'f'\u001b[0m\u001b[1;33m,\u001b[0m\u001b[1;34m'f'\u001b[0m\u001b[1;33m,\u001b[0m\u001b[1;34m'b'\u001b[0m\u001b[1;33m,\u001b[0m\u001b[1;34m'b'\u001b[0m\u001b[1;33m,\u001b[0m\u001b[1;34m'd'\u001b[0m\u001b[1;33m]\u001b[0m\u001b[1;33m\u001b[0m\u001b[0m\n\u001b[0;32m      3\u001b[0m \u001b[0me\u001b[0m \u001b[1;33m=\u001b[0m \u001b[0mCounter\u001b[0m\u001b[1;33m(\u001b[0m\u001b[0mb\u001b[0m\u001b[1;33m)\u001b[0m\u001b[1;33m\u001b[0m\u001b[0m\n\u001b[1;32m----> 4\u001b[1;33m \u001b[0mprint\u001b[0m\u001b[1;33m(\u001b[0m\u001b[0me\u001b[0m\u001b[1;33m.\u001b[0m\u001b[0mkey\u001b[0m\u001b[1;33m)\u001b[0m\u001b[1;33m\u001b[0m\u001b[0m\n\u001b[0m",
      "\u001b[1;31mAttributeError\u001b[0m: 'Counter' object has no attribute 'key'"
     ]
    }
   ],
   "source": [
    "from collections import Counter\n",
    "b = ['f','b','b','d','f','f','b','b','d']\n",
    "e = Counter(b)\n",
    "print(e.key)"
   ]
  },
  {
   "cell_type": "code",
   "execution_count": null,
   "metadata": {},
   "outputs": [],
   "source": [
    "b = ['f','b','b','d','f','f','b','b','d']\n",
    "g = []\n",
    "for i in b:\n",
    "    if b[i] not in g:\n",
    "        g.apennd(b[i])"
   ]
  },
  {
   "cell_type": "code",
   "execution_count": 4,
   "metadata": {},
   "outputs": [
    {
     "data": {
      "text/plain": [
       "<matplotlib.image.AxesImage at 0x189a263ecc0>"
      ]
     },
     "execution_count": 4,
     "metadata": {},
     "output_type": "execute_result"
    },
    {
     "data": {
      "image/png": "[encoded data removed]",
      "text/plain": [
       "<Figure size 432x288 with 1 Axes>"
      ]
     },
     "metadata": {},
     "output_type": "display_data"
    }
   ],
   "source": [
    "import matplotlib.pyplot as plt\n",
    "import numpy as np\n",
    "dists = np.array([[1,2],[3, 4]])\n",
    "plt.imshow(dists, interpolation='none')"
   ]
  },
  {
   "cell_type": "code",
   "execution_count": null,
   "metadata": {},
   "outputs": [],
   "source": [
    "a = np.array([1,2,3])\n",
    "c = np.array([[1,2,3],[4,5,6]])\n",
    "print(a-c)\n",
    "np.sum((a-c), axis=1)"
   ]
  },
  {
   "cell_type": "code",
   "execution_count": 32,
   "metadata": {},
   "outputs": [
    {
     "name": "stdout",
     "output_type": "stream",
     "text": [
      "(100, 200)\n",
      "[[9.1457801  9.1260327  9.40690297 ... 8.7733378  9.47661735 9.25223913]\n",
      " [9.06426328 9.26511103 9.22375036 ... 8.86275195 9.12562686 9.36016191]\n",
      " [9.17921589 8.67260537 8.89638787 ... 9.1456576  9.04656586 9.01546835]\n",
      " ...\n",
      " [8.6848265  9.48193235 8.67258077 ... 9.10207063 9.32175237 8.98884646]\n",
      " [8.80589073 8.9616156  9.05938609 ... 9.05320386 9.21158429 9.29251136]\n",
      " [8.98266899 8.91844947 8.99950452 ... 8.92586795 9.2331522  9.01056084]] 0.5965523719787598\n",
      "[[9.1457801  9.1260327  9.40690297 ... 8.7733378  9.47661735 9.25223913]\n",
      " [9.06426328 9.26511103 9.22375036 ... 8.86275195 9.12562686 9.36016191]\n",
      " [9.17921589 8.67260537 8.89638787 ... 9.1456576  9.04656586 9.01546835]\n",
      " ...\n",
      " [8.6848265  9.48193235 8.67258077 ... 9.10207063 9.32175237 8.98884646]\n",
      " [8.80589073 8.9616156  9.05938609 ... 9.05320386 9.21158429 9.29251136]\n",
      " [8.98266899 8.91844947 8.99950452 ... 8.92586795 9.2331522  9.01056084]] 0.4796905517578125\n"
     ]
    },
    {
     "ename": "ValueError",
     "evalue": "operands could not be broadcast together with shapes (100,) (100,200) ",
     "output_type": "error",
     "traceback": [
      "\u001b[1;31m---------------------------------------------------------------------------\u001b[0m",
      "\u001b[1;31mValueError\u001b[0m                                Traceback (most recent call last)",
      "\u001b[1;32m<ipython-input-32-d8a13b83d286>\u001b[0m in \u001b[0;36m<module>\u001b[1;34m()\u001b[0m\n\u001b[0;32m     21\u001b[0m \u001b[0mprint\u001b[0m\u001b[1;33m(\u001b[0m\u001b[0mdists\u001b[0m\u001b[1;33m,\u001b[0m\u001b[0mend\u001b[0m \u001b[1;33m-\u001b[0m \u001b[0mstart\u001b[0m\u001b[1;33m)\u001b[0m\u001b[1;33m\u001b[0m\u001b[0m\n\u001b[0;32m     22\u001b[0m \u001b[0mend\u001b[0m \u001b[1;33m=\u001b[0m \u001b[0mtime\u001b[0m\u001b[1;33m.\u001b[0m\u001b[0mtime\u001b[0m\u001b[1;33m(\u001b[0m\u001b[1;33m)\u001b[0m\u001b[1;33m\u001b[0m\u001b[0m\n\u001b[1;32m---> 23\u001b[1;33m \u001b[0mdists\u001b[0m \u001b[1;33m=\u001b[0m \u001b[0mnp\u001b[0m\u001b[1;33m.\u001b[0m\u001b[0mpower\u001b[0m\u001b[1;33m(\u001b[0m\u001b[0ma\u001b[0m\u001b[1;33m,\u001b[0m \u001b[1;36m2\u001b[0m\u001b[1;33m)\u001b[0m\u001b[1;33m@\u001b[0m\u001b[0mnp\u001b[0m\u001b[1;33m.\u001b[0m\u001b[0mones\u001b[0m\u001b[1;33m(\u001b[0m\u001b[1;33m(\u001b[0m\u001b[0ma\u001b[0m\u001b[1;33m.\u001b[0m\u001b[0mshape\u001b[0m\u001b[1;33m[\u001b[0m\u001b[1;36m1\u001b[0m\u001b[1;33m]\u001b[0m\u001b[1;33m,\u001b[0m\u001b[1;33m)\u001b[0m\u001b[1;33m)\u001b[0m \u001b[1;33m+\u001b[0m \u001b[0mnp\u001b[0m\u001b[1;33m.\u001b[0m\u001b[0mones\u001b[0m\u001b[1;33m(\u001b[0m\u001b[1;33m(\u001b[0m\u001b[0ma\u001b[0m\u001b[1;33m.\u001b[0m\u001b[0mshape\u001b[0m\u001b[1;33m[\u001b[0m\u001b[1;36m0\u001b[0m\u001b[1;33m]\u001b[0m\u001b[1;33m,\u001b[0m \u001b[0mb\u001b[0m\u001b[1;33m.\u001b[0m\u001b[0mshape\u001b[0m\u001b[1;33m[\u001b[0m\u001b[1;36m1\u001b[0m\u001b[1;33m]\u001b[0m\u001b[1;33m)\u001b[0m\u001b[1;33m)\u001b[0m\u001b[1;33m@\u001b[0m\u001b[0mnp\u001b[0m\u001b[1;33m.\u001b[0m\u001b[0mpower\u001b[0m\u001b[1;33m(\u001b[0m\u001b[0mb\u001b[0m\u001b[1;33m.\u001b[0m\u001b[0mT\u001b[0m\u001b[1;33m,\u001b[0m \u001b[1;36m2\u001b[0m\u001b[1;33m)\u001b[0m \u001b[1;33m-\u001b[0m \u001b[1;36m2\u001b[0m\u001b[1;33m*\u001b[0m\u001b[1;33m(\u001b[0m\u001b[0ma\u001b[0m\u001b[1;33m@\u001b[0m\u001b[1;33m(\u001b[0m\u001b[0mb\u001b[0m\u001b[1;33m.\u001b[0m\u001b[0mT\u001b[0m\u001b[1;33m)\u001b[0m\u001b[1;33m)\u001b[0m\u001b[1;33m\u001b[0m\u001b[0m\n\u001b[0m\u001b[0;32m     24\u001b[0m \u001b[0mend\u001b[0m \u001b[1;33m=\u001b[0m \u001b[0mtime\u001b[0m\u001b[1;33m.\u001b[0m\u001b[0mtime\u001b[0m\u001b[1;33m(\u001b[0m\u001b[1;33m)\u001b[0m\u001b[1;33m\u001b[0m\u001b[0m\n\u001b[0;32m     25\u001b[0m \u001b[0mprint\u001b[0m\u001b[1;33m(\u001b[0m\u001b[0mdists\u001b[0m\u001b[1;33m,\u001b[0m \u001b[0mend\u001b[0m \u001b[1;33m-\u001b[0m \u001b[0mstart\u001b[0m\u001b[1;33m)\u001b[0m\u001b[1;33m\u001b[0m\u001b[0m\n",
      "\u001b[1;31mValueError\u001b[0m: operands could not be broadcast together with shapes (100,) (100,200) "
     ]
    }
   ],
   "source": [
    "# Endlicate distance\n",
    "import numpy as np\n",
    "import time\n",
    "a = np.random.random((100, 500))\n",
    "b = np.random.random((200,500))\n",
    "irow = a.shape[0]\n",
    "icol = b.shape[0]\n",
    "dists = np.zeros((irow, icol))\n",
    "print(dists.shape)\n",
    "start = time.time()\n",
    "for i in range(irow):\n",
    "    for j in range(icol):\n",
    "        dists[i, j] = np.power(np.sum(np.power((a[i] - b[j]), 2)), 0.5)\n",
    "end = time.time()\n",
    "print(dists,end - start)\n",
    "# print(np.sum(np.power((a[1] - b), 2), axis=1))\n",
    "start = time.time()\n",
    "for i in range(irow):\n",
    "    dists[i, :] = np.power(np.sum(np.power((a[i] - b), 2), axis=1), 0.5)\n",
    "end = time.time()\n",
    "print(dists,end - start)\n",
    "end = time.time()\n",
    "dists = np.power(a, 2)@np.ones((a.shape[1], b.shape[0])) + np.ones((a.shape[0], b.shape[1]))@np.power(b.T, 2) - 2*(a@(b.T))\n",
    "end = time.time()\n",
    "print(dists, end - start)"
   ]
  },
  {
   "cell_type": "code",
   "execution_count": 33,
   "metadata": {},
   "outputs": [
    {
     "data": {
      "text/plain": [
       "array([[ 2.,  3.,  6.],\n",
       "       [ 5.,  6., 11.]])"
      ]
     },
     "execution_count": 33,
     "metadata": {},
     "output_type": "execute_result"
    }
   ],
   "source": [
    "import numpy as np\n",
    "x = np.array([[1,2,5],[4,5,10]])\n",
    "y = np.ones((3,))\n",
    "x@y\n",
    "x+y"
   ]
  },
  {
   "cell_type": "code",
   "execution_count": 37,
   "metadata": {},
   "outputs": [
    {
     "name": "stdout",
     "output_type": "stream",
     "text": [
      "[array([[1, 2],\n",
      "       [1, 2]]), array([[5, 4],\n",
      "       [5, 4]]), array([[ 5, 10],\n",
      "       [ 5, 10]])]\n"
     ]
    }
   ],
   "source": [
    "import numpy as np\n",
    "x = np.array([[1,2,5,4,5,10],[1,2,5,4,5,10]])\n",
    "print(np.array_split(x, 3, axis=1))"
   ]
  },
  {
   "cell_type": "code",
   "execution_count": 48,
   "metadata": {},
   "outputs": [
    {
     "data": {
      "text/plain": [
       "{1: [5]}"
      ]
     },
     "execution_count": 48,
     "metadata": {},
     "output_type": "execute_result"
    }
   ],
   "source": [
    "k = {}\n",
    "k[1] = []\n",
    "k[1].append(5)\n",
    "k"
   ]
  },
  {
   "cell_type": "code",
   "execution_count": 54,
   "metadata": {},
   "outputs": [
    {
     "name": "stdout",
     "output_type": "stream",
     "text": [
      "[1, 1, 1, 1]\n"
     ]
    },
    {
     "data": {
      "text/plain": [
       "<matplotlib.collections.PathCollection at 0x2415f9bd320>"
      ]
     },
     "execution_count": 54,
     "metadata": {},
     "output_type": "execute_result"
    },
    {
     "data": {
      "image/png": "[encoded data removed]",
      "text/plain": [
       "<Figure size 432x288 with 1 Axes>"
      ]
     },
     "metadata": {},
     "output_type": "display_data"
    }
   ],
   "source": [
    "import matplotlib.pyplot as plt\n",
    "k = [2,3,5,6]\n",
    "print([1] * len(k))\n",
    "plt.scatter([1] * len(k),[2,3,4,5])"
   ]
  },
  {
   "cell_type": "code",
   "execution_count": 1,
   "metadata": {},
   "outputs": [
    {
     "name": "stdout",
     "output_type": "stream",
     "text": [
      "(0,)\n",
      "(1,)\n",
      "(2,)\n",
      "(3,)\n",
      "(4,)\n"
     ]
    }
   ],
   "source": [
    "import numpy as np\n",
    "x = np.array([1,2,3,4,5])\n",
    "it = np.nditer(x, flags = ['multi_index'], op_flags = ['readwrite'])\n",
    "while not it.finished:\n",
    "    print(it.multi_index)\n",
    "    it.iternext()"
   ]
  },
  {
   "cell_type": "code",
   "execution_count": 42,
   "metadata": {},
   "outputs": [
    {
     "ename": "IndentationError",
     "evalue": "expected an indented block (<ipython-input-42-92e125657fda>, line 46)",
     "output_type": "error",
     "traceback": [
      "\u001b[1;36m  File \u001b[1;32m\"<ipython-input-42-92e125657fda>\"\u001b[1;36m, line \u001b[1;32m46\u001b[0m\n\u001b[1;33m    for iterator in range(10):\u001b[0m\n\u001b[1;37m                              ^\u001b[0m\n\u001b[1;31mIndentationError\u001b[0m\u001b[1;31m:\u001b[0m expected an indented block\n"
     ]
    }
   ],
   "source": [
    "import numpy as np\n",
    "x = np.array([[1, 2], [3, 4], [5, 6], [2, 3], [2, 1]]) #(5*2)(N,D)\n",
    "y = np.array([0, 1, 2, 1, 2]) #(N,)\n",
    "w = np.random.randn(2, 3) * 0.0001 #(D,C)\n",
    "def svm_lost(x, y, w):\n",
    "    dw = np.zeros(w.shape)\n",
    "    num_classes = w.shape[1] #C\n",
    "    num_train = x.shape[0] #N\n",
    "    loss = 0.0\n",
    "    for i in range(num_train):\n",
    "        scores = x[i].dot(w)#(1, 3)\n",
    "        correct_class_score = scores[y[i]]\n",
    "        for j in range(num_classes):\n",
    "            if j == y[i]:\n",
    "                continue\n",
    "            margin = scores[j] - correct_class_score + 1\n",
    "            if margin > 0:\n",
    "                loss += margin\n",
    "    loss /= num_train\n",
    "    return loss\n",
    "def lost(w):\n",
    "    return svm_lost(x, y, w)\n",
    "def eval_numerical_gradient(f, w):\n",
    "    fw = f(w)\n",
    "    grad = np.zeros(w.shape)\n",
    "    h = 0.00001\n",
    "    it = np.nditer(w, flags=['multi_index'], op_flags=['readwrite'])\n",
    "#     while not it.finished:\n",
    "#         ix = it.multi_index\n",
    "#         old_value = w[ix]\n",
    "#         w[ix] = old_value + h\n",
    "#         fwh = f(w)\n",
    "#         w[ix] = old_value\n",
    "#         grad[ix] = (fwh - fw) / h\n",
    "#         it.iternext()\n",
    "#     for i in range(w.shape[0]):\n",
    "#         for j in range(w.shape[1]):\n",
    "#             old_value = w[i, j]\n",
    "#             w[i, j] = old_value + h\n",
    "#             fwh = f(w)\n",
    "#             w[i, j] = old_value\n",
    "#             grad[i, j] = (fwh - fw) / h\n",
    "#     return grad\n",
    "for iterator in range(10):\n",
    "    step_size = 0.1\n",
    "    w_new = w\n",
    "    w_new = w - step_size * eval_numerical_gradient(lost, w_new)\n",
    "    w = w_new\n",
    "    print(lost(w_new))"
   ]
  },
  {
   "cell_type": "code",
   "execution_count": 52,
   "metadata": {},
   "outputs": [
    {
     "name": "stdout",
     "output_type": "stream",
     "text": [
      "6\n",
      "2\n",
      "2\n",
      "6\n",
      "<generator object <genexpr> at 0x000001CC90F9B570>\n"
     ]
    }
   ],
   "source": [
    "import numpy as np\n",
    "a = np.array([[1,2,3],[4,5,6]])\n",
    "b = np.array([1,2])\n",
    "print(a[1,2])\n",
    "print(a.shape[0])\n",
    "for i in range(a.shape[0]):\n",
    "    print(a[i ,b[i]])\n",
    "print(a[i,b[i]] for i in range(a.shape[0])) "
   ]
  },
  {
   "cell_type": "code",
   "execution_count": 63,
   "metadata": {},
   "outputs": [
    {
     "data": {
      "text/plain": [
       "array([2, 6])"
      ]
     },
     "execution_count": 63,
     "metadata": {},
     "output_type": "execute_result"
    }
   ],
   "source": [
    "import numpy as np\n",
    "a = np.array([[1,2,3],[4,5,6]])\n",
    "b = np.array([1,2])\n",
    "a[range(2), b]"
   ]
  },
  {
   "cell_type": "code",
   "execution_count": 5,
   "metadata": {},
   "outputs": [
    {
     "data": {
      "image/png": "[encoded data removed]",
      "text/plain": [
       "<Figure size 432x288 with 1 Axes>"
      ]
     },
     "metadata": {},
     "output_type": "display_data"
    }
   ],
   "source": [
    "import matplotlib.pyplot as plt\n",
    "y = np.array([10,5,3])\n",
    "plt.plot(y)\n",
    "plt.xlabel('Iteration number')\n",
    "plt.ylabel('Loss value')\n",
    "plt.show()"
   ]
  },
  {
   "cell_type": "code",
   "execution_count": 10,
   "metadata": {},
   "outputs": [
    {
     "name": "stdout",
     "output_type": "stream",
     "text": [
      "[1e-07, 5e-05]\n"
     ]
    }
   ],
   "source": [
    "learning_rates = [1e-7, 5e-5]\n",
    "print(learning_rates)"
   ]
  },
  {
   "cell_type": "code",
   "execution_count": 13,
   "metadata": {
    "scrolled": false
   },
   "outputs": [
    {
     "name": "stdout",
     "output_type": "stream",
     "text": [
      "1e-07\n",
      "5.6444444444444445e-06\n",
      "1.118888888888889e-05\n",
      "1.6733333333333335e-05\n",
      "2.2277777777777778e-05\n",
      "2.782222222222222e-05\n",
      "3.3366666666666674e-05\n",
      "3.891111111111111e-05\n",
      "4.445555555555556e-05\n",
      "5e-05\n"
     ]
    }
   ],
   "source": [
    "import numpy as np\n",
    "learning_rates = [1e-7, 5e-5]\n",
    "regularization_strengths = [2.5e4, 5e4]\n",
    "for j in [1e-7+float(i)*(5e-5-1e-7)/(float(10)-1) for i in range(10)]:\n",
    "    print(j)"
   ]
  },
  {
   "cell_type": "code",
   "execution_count": 8,
   "metadata": {
    "scrolled": true
   },
   "outputs": [
    {
     "name": "stdout",
     "output_type": "stream",
     "text": [
      "1678999115816\n",
      "1\n",
      "1678999115816\n"
     ]
    }
   ],
   "source": [
    "class A(object):\n",
    "    def __init__(self):\n",
    "        pass\n",
    "    def println(self):\n",
    "        print('A')\n",
    "class B(A):\n",
    "    def __init__(self):\n",
    "        pass\n",
    "    def println(self, a):\n",
    "        print(a)\n",
    "b = B()\n",
    "print(id(b))\n",
    "b.println(1)\n",
    "print(id(b))"
   ]
  },
  {
   "cell_type": "code",
   "execution_count": 25,
   "metadata": {},
   "outputs": [
    {
     "name": "stdout",
     "output_type": "stream",
     "text": [
      "[('a', 'b'), ('c', 'd')]\n",
      "1\n",
      "3\n"
     ]
    }
   ],
   "source": [
    "import numpy as np\n",
    "result = {('a','b'): [1,2], ('c','d'):[3,4]}\n",
    "print(sorted(result))\n",
    "for i in result:\n",
    "    print(result[i][0])"
   ]
  },
  {
   "cell_type": "code",
   "execution_count": 40,
   "metadata": {},
   "outputs": [
    {
     "name": "stdout",
     "output_type": "stream",
     "text": [
      "[1 2]\n",
      "[1 2]\n"
     ]
    },
    {
     "data": {
      "image/png": "[encoded data removed]",
      "text/plain": [
       "<Figure size 432x288 with 2 Axes>"
      ]
     },
     "metadata": {},
     "output_type": "display_data"
    }
   ],
   "source": [
    "import matplotlib.pyplot as plt\n",
    "x_scatter = np.array([1,2])\n",
    "print(x_scatter)\n",
    "y_scatter = np.array([1,2])\n",
    "print(x_scatter)\n",
    "marker_size = 100\n",
    "color = [0.1,0.6]\n",
    "plt.scatter(x_scatter, y_scatter, marker_size, c=color)\n",
    "plt.colorbar()\n",
    "plt.show()"
   ]
  },
  {
   "cell_type": "code",
   "execution_count": 3,
   "metadata": {},
   "outputs": [
    {
     "name": "stdout",
     "output_type": "stream",
     "text": [
      "[5.75274406e-290 2.39848787e-145 1.00000000e+000]\n"
     ]
    }
   ],
   "source": [
    "import numpy as np\n",
    "f = np.array([123, 456, 789]) # example with 3 classes and each having large scores\n",
    "# p = np.exp(f) / np.sum(np.exp(f)) # Bad: Numeric problem, potential blowup\n",
    "\n",
    "# instead: first shift the values of f so that the highest number is 0:\n",
    "f -= np.max(f) # f becomes [-666, -333, 0]\n",
    "p = np.exp(f) / np.sum(np.exp(f)) # safe to do, gives the correct answer\n",
    "print(p)"
   ]
  },
  {
   "cell_type": "code",
   "execution_count": 10,
   "metadata": {},
   "outputs": [
    {
     "data": {
      "text/plain": [
       "30.19287485057736"
      ]
     },
     "execution_count": 10,
     "metadata": {},
     "output_type": "execute_result"
    }
   ],
   "source": [
    "import numpy as np\n",
    "np.log(1)\n",
    "np.exp(1)\n",
    "a = [1,2,3]\n",
    "np.sum(np.exp(a))"
   ]
  },
  {
   "cell_type": "code",
   "execution_count": 10,
   "metadata": {},
   "outputs": [
    {
     "name": "stdout",
     "output_type": "stream",
     "text": [
      "[77 36 65 47 41 36 20 35 19  4]\n"
     ]
    }
   ],
   "source": [
    "import numpy as np\n",
    "z = np.array([[2,0,3,4],[2,6,3,4]])\n",
    "np.max(z, axis=1)\n",
    "indies = np.random.choice(range(100), size=10)\n",
    "print(indies)"
   ]
  },
  {
   "cell_type": "code",
   "execution_count": 11,
   "metadata": {},
   "outputs": [
    {
     "name": "stdout",
     "output_type": "stream",
     "text": [
      "a\n"
     ]
    }
   ],
   "source": [
    "x= 'a'\n",
    "print('%s'%x)"
   ]
  },
  {
   "cell_type": "code",
   "execution_count": 19,
   "metadata": {},
   "outputs": [
    {
     "name": "stdout",
     "output_type": "stream",
     "text": [
      "{0, 1, 2}\n",
      "2\n"
     ]
    },
    {
     "data": {
      "text/plain": [
       "0"
      ]
     },
     "execution_count": 19,
     "metadata": {},
     "output_type": "execute_result"
    }
   ],
   "source": [
    "import numpy as np\n",
    "a = [1, 1, 2, 2, 2, 0, 0]\n",
    "print(set(a))\n",
    "print(max(set(a), key=a.count))\n",
    "print(a.count(set(a)))"
   ]
  },
  {
   "cell_type": "code",
   "execution_count": null,
   "metadata": {},
   "outputs": [],
   "source": []
  }
 ],
 "metadata": {
  "kernelspec": {
   "display_name": "Python 3",
   "language": "python",
   "name": "python3"
  },
  "language_info": {
   "codemirror_mode": {
    "name": "ipython",
    "version": 3
   },
   "file_extension": ".py",
   "mimetype": "text/x-python",
   "name": "python",
   "nbconvert_exporter": "python",
   "pygments_lexer": "ipython3",
   "version": "3.6.5"
  }
 },
 "nbformat": 4,
 "nbformat_minor": 2
}
